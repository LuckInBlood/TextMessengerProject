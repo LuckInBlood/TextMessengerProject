{
 "cells": [
  {
   "cell_type": "code",
   "execution_count": null,
   "metadata": {},
   "outputs": [
    {
     "name": "stdout",
     "output_type": "stream",
     "text": [
      "Server will start on host :DESKTOP-BFER6B1\n",
      "Server is bound successfully\n",
      "('10.6.2.53', 20238) has connected \n",
      "you : >>hello\n",
      "Client :>> end\n"
     ]
    }
   ],
   "source": [
    "import socket\n",
    "import sys \n",
    "import time\n",
    "s = socket.socket()\n",
    "host =socket.gethostname()\n",
    "print(f\"Server will start on host :{host}\")\n",
    "port = 1234\n",
    "s.bind((host,port))\n",
    "print(\"Server is bound successfully\")\n",
    "s.listen(1)\n",
    "conn,addr =s.accept()\n",
    "print(f\"{addr} has connected \")\n",
    "while(1):\n",
    "    message = input(str(\"you : >>\"))\n",
    "    message = message.encode()\n",
    "    conn.send(message)\n",
    "    incoming_message= conn.recv(1024)\n",
    "    incoming_message = incoming_message.decode()\n",
    "    print(f\"Client :>> {incoming_message}\")"
   ]
  },
  {
   "cell_type": "code",
   "execution_count": null,
   "metadata": {},
   "outputs": [],
   "source": []
  }
 ],
 "metadata": {
  "kernelspec": {
   "display_name": "Python 3",
   "language": "python",
   "name": "python3"
  },
  "language_info": {
   "codemirror_mode": {
    "name": "ipython",
    "version": 3
   },
   "file_extension": ".py",
   "mimetype": "text/x-python",
   "name": "python",
   "nbconvert_exporter": "python",
   "pygments_lexer": "ipython3",
   "version": "3.7.6"
  }
 },
 "nbformat": 4,
 "nbformat_minor": 4
}
