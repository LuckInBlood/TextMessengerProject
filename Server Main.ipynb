{
 "cells": [
  {
   "cell_type": "code",
   "execution_count": 3,
   "metadata": {},
   "outputs": [
    {
     "name": "stdout",
     "output_type": "stream",
     "text": [
      "Server has started running\n",
      "Connected with ('127.0.0.1', 1038) \n"
     ]
    },
    {
     "ename": "ConnectionResetError",
     "evalue": "[WinError 10054] An existing connection was forcibly closed by the remote host",
     "output_type": "error",
     "traceback": [
      "\u001b[1;31m---------------------------------------------------------------------------\u001b[0m",
      "\u001b[1;31mConnectionResetError\u001b[0m                      Traceback (most recent call last)",
      "\u001b[1;32m<ipython-input-3-5e522ab99ce6>\u001b[0m in \u001b[0;36m<module>\u001b[1;34m\u001b[0m\n\u001b[0;32m     51\u001b[0m \u001b[1;33m\u001b[0m\u001b[0m\n\u001b[0;32m     52\u001b[0m \u001b[0mprint\u001b[0m\u001b[1;33m(\u001b[0m\u001b[1;34m\"Server has started running\"\u001b[0m\u001b[1;33m)\u001b[0m\u001b[1;33m\u001b[0m\u001b[1;33m\u001b[0m\u001b[0m\n\u001b[1;32m---> 53\u001b[1;33m \u001b[0mreceive\u001b[0m\u001b[1;33m(\u001b[0m\u001b[1;33m)\u001b[0m\u001b[1;33m\u001b[0m\u001b[1;33m\u001b[0m\u001b[0m\n\u001b[0m\u001b[0;32m     54\u001b[0m \u001b[1;33m\u001b[0m\u001b[0m\n\u001b[0;32m     55\u001b[0m \u001b[1;33m\u001b[0m\u001b[0m\n",
      "\u001b[1;32m<ipython-input-3-5e522ab99ce6>\u001b[0m in \u001b[0;36mreceive\u001b[1;34m()\u001b[0m\n\u001b[0;32m     37\u001b[0m         \u001b[0mprint\u001b[0m\u001b[1;33m(\u001b[0m\u001b[1;34mf\"Connected with {str(addr)} \"\u001b[0m\u001b[1;33m)\u001b[0m \u001b[1;31m#typecasting incase the address is not a string\u001b[0m\u001b[1;33m\u001b[0m\u001b[1;33m\u001b[0m\u001b[0m\n\u001b[0;32m     38\u001b[0m         \u001b[0mclient\u001b[0m\u001b[1;33m.\u001b[0m\u001b[0msend\u001b[0m\u001b[1;33m(\u001b[0m\u001b[1;34m\"NICK\"\u001b[0m\u001b[1;33m.\u001b[0m\u001b[0mencode\u001b[0m\u001b[1;33m(\u001b[0m\u001b[1;34m'utf-8'\u001b[0m\u001b[1;33m)\u001b[0m\u001b[1;33m)\u001b[0m \u001b[1;31m#used for communication btn the server and the client\u001b[0m\u001b[1;33m\u001b[0m\u001b[1;33m\u001b[0m\u001b[0m\n\u001b[1;32m---> 39\u001b[1;33m         \u001b[0mnickname\u001b[0m \u001b[1;33m=\u001b[0m \u001b[0mclient\u001b[0m\u001b[1;33m.\u001b[0m\u001b[0mrecv\u001b[0m\u001b[1;33m(\u001b[0m\u001b[1;36m1024\u001b[0m\u001b[1;33m)\u001b[0m\u001b[1;33m.\u001b[0m\u001b[0mdecode\u001b[0m\u001b[1;33m(\u001b[0m\u001b[1;34m'utf-8'\u001b[0m\u001b[1;33m)\u001b[0m \u001b[1;31m#1024 bits\u001b[0m\u001b[1;33m\u001b[0m\u001b[1;33m\u001b[0m\u001b[0m\n\u001b[0m\u001b[0;32m     40\u001b[0m \u001b[1;33m\u001b[0m\u001b[0m\n\u001b[0;32m     41\u001b[0m         \u001b[0mnicknames\u001b[0m\u001b[1;33m.\u001b[0m\u001b[0mappend\u001b[0m\u001b[1;33m(\u001b[0m\u001b[0mnickname\u001b[0m\u001b[1;33m)\u001b[0m\u001b[1;33m\u001b[0m\u001b[1;33m\u001b[0m\u001b[0m\n",
      "\u001b[1;31mConnectionResetError\u001b[0m: [WinError 10054] An existing connection was forcibly closed by the remote host"
     ]
    }
   ],
   "source": [
    "import socket \n",
    "import threading\n",
    "\n",
    "HOST ='127.0.0.1'  # if running online entire own (private) ip address \n",
    "PORT = 9090\n",
    "server = socket.socket(socket.AF_INET, socket.SOCK_STREAM)\n",
    "server.bind((HOST,PORT))\n",
    "server.listen()\n",
    "clients = []\n",
    "nicknames =[]\n",
    "\n",
    "#broadcast fn\n",
    "def broadcast(message):   #No encoding done here (The message should be encoded and passed in the fn)\n",
    "    for n in clients:\n",
    "        n.send(message)\n",
    "#fn to handle\n",
    "def handle(client):\n",
    "    while True:\n",
    "        try:\n",
    "            message = client.recv(1024)\n",
    "            print(f\"{nicknames[clients.index(client)]} has sent a message \")\n",
    "            broadcast(message) # the message will be sent to everyone \n",
    "        \n",
    "        except:\n",
    "            index = clients.index(client)\n",
    "            clients.remove(client)\n",
    "            client.close()\n",
    "            nickname = nicknames[index]\n",
    "            nicknames.remove(nickname) #pop fn can be used too \n",
    "            break\n",
    "            \n",
    "#receive fn\n",
    "def receive():\n",
    "    #also can use signals acc to priority\n",
    "    while True:\n",
    "        client,addr = server.accept()\n",
    "        print(f\"Connected with {str(addr)} \") #typecasting incase the address is not a string\n",
    "        client.send(\"NICK\".encode('utf-8')) #used for communication btn the server and the client\n",
    "        nickname = client.recv(1024).decode('utf-8') #1024 bits\n",
    "        \n",
    "        nicknames.append(nickname)\n",
    "        \n",
    "        clients.append(client)\n",
    "        print(f\" {nickname} has connected \") #server message \n",
    "        broadcast(f\"{nickname} has joined  to the server \\n \".encode(\"utf-8\")) #broadcasting overall\n",
    "        client.send(\"You have connected to the server\".encode('utf-8'))\n",
    "        \n",
    "        thread = threading.Thread(target= handle,args=(client,)) # we use a comma cause we want the arg to be treated as a tuple\n",
    "        thread.start()\n",
    "        \n",
    "\n",
    "print(\"Server has started running\")\n",
    "receive()\n",
    "        \n",
    "        \n",
    "\n",
    " "
   ]
  },
  {
   "cell_type": "code",
   "execution_count": null,
   "metadata": {},
   "outputs": [],
   "source": []
  }
 ],
 "metadata": {
  "kernelspec": {
   "display_name": "Python 3",
   "language": "python",
   "name": "python3"
  },
  "language_info": {
   "codemirror_mode": {
    "name": "ipython",
    "version": 3
   },
   "file_extension": ".py",
   "mimetype": "text/x-python",
   "name": "python",
   "nbconvert_exporter": "python",
   "pygments_lexer": "ipython3",
   "version": "3.7.6"
  }
 },
 "nbformat": 4,
 "nbformat_minor": 4
}
